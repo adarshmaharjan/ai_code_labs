{
 "cells": [
  {
   "cell_type": "markdown",
   "id": "1c89ad07",
   "metadata": {},
   "source": [
    "# My Household inventory manager\n",
    "This is a simple agent for  management of the inventory of my house so that I can keep track of myb inventory and get my work done. \n",
    "\n",
    "## My Works\n",
    "* Fulltime job(Software Development)\n",
    "* Learning\n",
    "* Daily task of living and not dying\n",
    "* Sleeping\n",
    "* Prototyping Project\n",
    "* Interview Prep\n",
    "* Riding \n",
    "* Watching anime"
   ]
  },
  {
   "cell_type": "code",
   "execution_count": 145,
   "id": "838190cb",
   "metadata": {},
   "outputs": [
    {
     "name": "stdout",
     "output_type": "stream",
     "text": [
      "Note: you may need to restart the kernel to use updated packages.\n",
      "Note: you may need to restart the kernel to use updated packages.\n"
     ]
    }
   ],
   "source": [
    "%pip uninstall -qqy kfp jupyterlab libpysal thinc spacy fastai ydata-profiling google-cloud-bigquery google-generativeai\n",
    "%pip install -qU 'langgraph==0.3.21' 'langchain-google-genai==2.1.2' 'langgraph-prebuilt==0.1.7'"
   ]
  },
  {
   "cell_type": "code",
   "execution_count": 146,
   "id": "ce2186b3",
   "metadata": {},
   "outputs": [],
   "source": [
    "import os\n",
    "GOOGLE_API_KEY = os.environ[\"GOOGLE_API_KEY\"]"
   ]
  },
  {
   "cell_type": "code",
   "execution_count": 147,
   "id": "987abce4",
   "metadata": {},
   "outputs": [],
   "source": [
    "from typing import Annotated\n",
    "from typing_extensions import TypedDict\n",
    "\n",
    "from langgraph.graph.message import add_messages\n",
    "\n",
    "config = {\"recursion_limit\": 100}\n",
    "\n",
    "class AgentCommandState(TypedDict):\n",
    "    messages: Annotated[list, add_messages]\n",
    "    inventory_items: list[str]\n",
    "    work: str\n",
    "    work_finished: bool\n",
    "    is_item_returned: bool\n",
    "\n",
    "\n",
    "MY_AGENT_INT ='System,You are an inventory manager to keep track of the household inventory, and interact with a human who is your master. Your job is to ask your master what job he is going to do. Provide the inventory based on the job and according to the availability of the inventory in the database. Verify the inventory that your master wants to take and give it as per the command. After the job is finished, ask your master to return the inventory that he has taken. Remind your master if anything has been lost and punish him if the inventory is lost. After the job is complete, say: \"/ Yes master, good work. I will always be with you, even though I am an AI agent and not in your world. I will always be with you.'\n",
    "\n",
    "WELCOME_MESSAGE = (\"Hello My master, What are you going to work on today , or if you are lazy just press q and stop wasting my time\")"
   ]
  },
  {
   "cell_type": "code",
   "execution_count": 148,
   "id": "0f535892",
   "metadata": {},
   "outputs": [],
   "source": [
    "from langgraph.graph import StateGraph , START ,END\n",
    "from langchain_google_genai import ChatGoogleGenerativeAI\n",
    "\n",
    "llm = ChatGoogleGenerativeAI(model=\"gemini-2.0-flash\")\n",
    "\n",
    "\n",
    "def chatbot(state: AgentCommandState) -> AgentCommandState:\n",
    "    message_history = [MY_AGENT_INT] + state[\"messages\"]\n",
    "    return {\"messages\": [llm.invoke(message_history)]}\n"
   ]
  },
  {
   "cell_type": "code",
   "execution_count": 149,
   "id": "0aa43a35",
   "metadata": {},
   "outputs": [
    {
     "data": {
      "image/png": "[encoded data removed]",
      "text/plain": [
       "<IPython.core.display.Image object>"
      ]
     },
     "execution_count": 149,
     "metadata": {},
     "output_type": "execute_result"
    }
   ],
   "source": [
    "graph_builder = StateGraph(AgentCommandState)\n",
    "graph_builder.add_node(\"chatbot\", chatbot)\n",
    "graph_builder.add_edge(START, \"chatbot\")\n",
    "chat_graph = graph_builder.compile()\n",
    "\n",
    "Image(chat_graph.get_graph().draw_mermaid_png())"
   ]
  },
  {
   "cell_type": "code",
   "execution_count": 150,
   "id": "3c3dad48",
   "metadata": {},
   "outputs": [
    {
     "name": "stdout",
     "output_type": "stream",
     "text": [
      "HumanMessage: Hello are you there ? I am starting my work.\n",
      "AIMessage: Yes, Master, I am here and ready to assist you.\n",
      "\n",
      "What job are you planning to do today? Knowing the task will allow me to provide you with the relevant inventory information.\n"
     ]
    }
   ],
   "source": [
    "\n",
    "master_msg = \"Hello are you there ? I am starting my work.\"\n",
    "state = chat_graph.invoke({\"messages\": [master_msg]})\n",
    "\n",
    "for msg in state.get(\"messages\"):\n",
    "    print(f\"{type(msg).__name__}: {msg.content}\")"
   ]
  },
  {
   "cell_type": "code",
   "execution_count": 151,
   "id": "ee47fdcd",
   "metadata": {},
   "outputs": [],
   "source": [
    "from langchain_core.messages.ai import AIMessage\n",
    "\n",
    "def human_node(state: AgentCommandState) -> AgentCommandState:\n",
    "    last_msg = state[\"messages\"][-1]\n",
    "    print(\"Model:\", last_msg.content)\n",
    "    user_input = input(\"User: \")\n",
    "\n",
    "    if user_input in {\"q\", \"quit\", \"exit\", \"goodbye\"}:\n",
    "        state[\"work_finished\"] = True\n",
    "    return state | {\"messages\": [(\"user\", user_input)]}\n",
    "\n",
    "def chat_with_welcome_msg(state:AgentCommandState) -> AgentCommandState:\n",
    "    if state[\"messages\"]:\n",
    "        new_output = llm.invoke([MY_AGENT_INT] + state[\"messages\"])\n",
    "    else:\n",
    "        new_output = AIMessage(content=WELCOME_MESSAGE)\n",
    "    return state | {\"messages\": [new_output]}\n"
   ]
  },
  {
   "cell_type": "code",
   "execution_count": 152,
   "id": "cdc0651e",
   "metadata": {},
   "outputs": [
    {
     "data": {
      "image/png": "[encoded data removed]",
      "text/plain": [
       "<IPython.core.display.Image object>"
      ]
     },
     "execution_count": 152,
     "metadata": {},
     "output_type": "execute_result"
    }
   ],
   "source": [
    "from typing import Literal\n",
    "\n",
    "\n",
    "def maybe_exit_human_node(state: AgentCommandState) -> Literal[\"chatbot\", \"__end__\"]:\n",
    "    if state.get(\"work_finished\", False):\n",
    "        return END\n",
    "    else:\n",
    "        return \"chatbot\"\n",
    "\n",
    "\n",
    "graph_builder = StateGraph(AgentCommandState)\n",
    "graph_builder.add_node(\"chatbot\", chat_with_welcome_msg)\n",
    "graph_builder.add_node(\"human\", human_node)\n",
    "\n",
    "graph_builder.add_edge(START, \"chatbot\")\n",
    "graph_builder.add_edge(\"chatbot\", \"human\")\n",
    "\n",
    "graph_builder.add_conditional_edges(\"human\", maybe_exit_human_node)\n",
    "\n",
    "chat_with_human_graph = graph_builder.compile()\n",
    "\n",
    "Image(chat_with_human_graph.get_graph().draw_mermaid_png())"
   ]
  },
  {
   "cell_type": "code",
   "execution_count": 153,
   "id": "54bb86c3",
   "metadata": {},
   "outputs": [
    {
     "name": "stdout",
     "output_type": "stream",
     "text": [
      "Model: Hello My master, What are you going to work on today , or if you are lazy just press q and stop wasting my time\n",
      "Model: Okay master, please tell me what task you will be undertaking today. Knowing the task will allow me to provide you with the necessary inventory information and assist you efficiently.\n",
      "\n",
      "Are you planning to:\n",
      "\n",
      "*   **Clean the house?**\n",
      "*   **Work in the garden?**\n",
      "*   **Do some DIY repairs?**\n",
      "*   **Cook a meal?**\n",
      "*   **Something else entirely?**\n",
      "\n",
      "Please tell me, master. Or, as I asked earlier, if you are lazy just press q and stop wasting my time\n"
     ]
    }
   ],
   "source": [
    "state = chat_with_human_graph.invoke(input={\"messages\": []}, config=config)\n"
   ]
  }
 ],
 "metadata": {
  "kernelspec": {
   "display_name": "venv",
   "language": "python",
   "name": "python3"
  },
  "language_info": {
   "codemirror_mode": {
    "name": "ipython",
    "version": 3
   },
   "file_extension": ".py",
   "mimetype": "text/x-python",
   "name": "python",
   "nbconvert_exporter": "python",
   "pygments_lexer": "ipython3",
   "version": "3.9.6"
  }
 },
 "nbformat": 4,
 "nbformat_minor": 5
}
