{
 "cells": [
  {
   "cell_type": "code",
   "execution_count": 44,
   "id": "48d09d2a",
   "metadata": {},
   "outputs": [
    {
     "name": "stdout",
     "output_type": "stream",
     "text": [
      "Note: you may need to restart the kernel to use updated packages.\n",
      "Note: you may need to restart the kernel to use updated packages.\n",
      "Requirement already satisfied: ipython-sql in ./venv/lib/python3.9/site-packages (0.5.0)\n",
      "Requirement already satisfied: prettytable in ./venv/lib/python3.9/site-packages (from ipython-sql) (3.16.0)\n",
      "Requirement already satisfied: ipython in ./venv/lib/python3.9/site-packages (from ipython-sql) (8.18.1)\n",
      "Requirement already satisfied: sqlalchemy>=2.0 in ./venv/lib/python3.9/site-packages (from ipython-sql) (2.0.40)\n",
      "Requirement already satisfied: sqlparse in ./venv/lib/python3.9/site-packages (from ipython-sql) (0.5.3)\n",
      "Requirement already satisfied: six in ./venv/lib/python3.9/site-packages (from ipython-sql) (1.17.0)\n",
      "Requirement already satisfied: ipython-genutils in ./venv/lib/python3.9/site-packages (from ipython-sql) (0.2.0)\n",
      "Requirement already satisfied: typing-extensions>=4.6.0 in ./venv/lib/python3.9/site-packages (from sqlalchemy>=2.0->ipython-sql) (4.13.2)\n",
      "Requirement already satisfied: decorator in ./venv/lib/python3.9/site-packages (from ipython->ipython-sql) (5.2.1)\n",
      "Requirement already satisfied: jedi>=0.16 in ./venv/lib/python3.9/site-packages (from ipython->ipython-sql) (0.19.2)\n",
      "Requirement already satisfied: matplotlib-inline in ./venv/lib/python3.9/site-packages (from ipython->ipython-sql) (0.1.7)\n",
      "Requirement already satisfied: prompt-toolkit<3.1.0,>=3.0.41 in ./venv/lib/python3.9/site-packages (from ipython->ipython-sql) (3.0.50)\n",
      "Requirement already satisfied: pygments>=2.4.0 in ./venv/lib/python3.9/site-packages (from ipython->ipython-sql) (2.19.1)\n",
      "Requirement already satisfied: stack-data in ./venv/lib/python3.9/site-packages (from ipython->ipython-sql) (0.6.3)\n",
      "Requirement already satisfied: traitlets>=5 in ./venv/lib/python3.9/site-packages (from ipython->ipython-sql) (5.14.3)\n",
      "Requirement already satisfied: exceptiongroup in ./venv/lib/python3.9/site-packages (from ipython->ipython-sql) (1.2.2)\n",
      "Requirement already satisfied: pexpect>4.3 in ./venv/lib/python3.9/site-packages (from ipython->ipython-sql) (4.9.0)\n",
      "Requirement already satisfied: wcwidth in ./venv/lib/python3.9/site-packages (from prettytable->ipython-sql) (0.2.13)\n",
      "Requirement already satisfied: parso<0.9.0,>=0.8.4 in ./venv/lib/python3.9/site-packages (from jedi>=0.16->ipython->ipython-sql) (0.8.4)\n",
      "Requirement already satisfied: ptyprocess>=0.5 in ./venv/lib/python3.9/site-packages (from pexpect>4.3->ipython->ipython-sql) (0.7.0)\n",
      "Requirement already satisfied: executing>=1.2.0 in ./venv/lib/python3.9/site-packages (from stack-data->ipython->ipython-sql) (2.2.0)\n",
      "Requirement already satisfied: asttokens>=2.1.0 in ./venv/lib/python3.9/site-packages (from stack-data->ipython->ipython-sql) (3.0.0)\n",
      "Requirement already satisfied: pure-eval in ./venv/lib/python3.9/site-packages (from stack-data->ipython->ipython-sql) (0.2.3)\n",
      "Note: you may need to restart the kernel to use updated packages.\n"
     ]
    }
   ],
   "source": [
    "%pip uninstall -qqy jupyterlab  # Remove unused conflicting packages\n",
    "%pip install -U -q \"google-genai==1.7.0\"\n",
    "%pip install ipython-sql\n"
   ]
  },
  {
   "cell_type": "code",
   "execution_count": 45,
   "id": "9f0b4501",
   "metadata": {},
   "outputs": [
    {
     "data": {
      "text/plain": [
       "'1.7.0'"
      ]
     },
     "execution_count": 45,
     "metadata": {},
     "output_type": "execute_result"
    }
   ],
   "source": [
    "import os\n",
    "from google import genai\n",
    "from google.genai import types\n",
    "\n",
    "GOOGLE_API_KEY = os.environ[\"GOOGLE_API_KEY\"]\n",
    "genai.__version__"
   ]
  },
  {
   "cell_type": "code",
   "execution_count": 46,
   "id": "8ef2ebba",
   "metadata": {},
   "outputs": [],
   "source": [
    "from google.api_core import retry\n",
    "\n",
    "\n",
    "is_retriable = lambda e: (isinstance(e, genai.errors.APIError) and e.code in {429, 503})\n",
    "\n",
    "if not hasattr(genai.models.Models.generate_content, '__wrapped__'):\n",
    "  genai.models.Models.generate_content = retry.Retry(\n",
    "      predicate=is_retriable)(genai.models.Models.generate_content)"
   ]
  },
  {
   "cell_type": "code",
   "execution_count": 47,
   "id": "5757d64b",
   "metadata": {},
   "outputs": [
    {
     "name": "stdout",
     "output_type": "stream",
     "text": [
      "The sql extension is already loaded. To reload it, use:\n",
      "  %reload_ext sql\n"
     ]
    }
   ],
   "source": [
    "%load_ext sql\n",
    "%sql sqlite:///sample.db"
   ]
  },
  {
   "cell_type": "code",
   "execution_count": 48,
   "id": "ea1f73b0",
   "metadata": {},
   "outputs": [
    {
     "name": "stdout",
     "output_type": "stream",
     "text": [
      " * sqlite:///sample.db\n",
      "Done.\n",
      "Done.\n",
      "Done.\n",
      "Done.\n",
      "Done.\n",
      "Done.\n",
      "(sqlite3.OperationalError) near \"x\": syntax error\n",
      "[SQL: x]\n",
      "(Background on this error at: https://sqlalche.me/e/20/e3q8)\n"
     ]
    }
   ],
   "source": [
    "\n",
    "%%sql\n",
    "-- Create the 'products' table\n",
    "CREATE TABLE IF NOT EXISTS products (\n",
    "  \tproduct_id INTEGER PRIMARY KEY AUTOINCREMENT,\n",
    "  \tproduct_name VARCHAR(255) NOT NULL,\n",
    "  \tprice DECIMAL(10, 2) NOT NULL\n",
    "  );\n",
    "\n",
    "-- Create the 'staff' table\n",
    "CREATE TABLE IF NOT EXISTS staff (\n",
    "  \tstaff_id INTEGER PRIMARY KEY AUTOINCREMENT,\n",
    "  \tfirst_name VARCHAR(255) NOT NULL,\n",
    "  \tlast_name VARCHAR(255) NOT NULL\n",
    "  );\n",
    "\n",
    "-- Create the 'orders' table\n",
    "CREATE TABLE IF NOT EXISTS orders (\n",
    "  \torder_id INTEGER PRIMARY KEY AUTOINCREMENT,\n",
    "  \tcustomer_name VARCHAR(255) NOT NULL,\n",
    "  \tstaff_id INTEGER NOT NULL,\n",
    "  \tproduct_id INTEGER NOT NULL,\n",
    "  \tFOREIGN KEY (staff_id) REFERENCES staff (staff_id),\n",
    "  \tFOREIGN KEY (product_id) REFERENCES products (product_id)\n",
    "  );\n",
    "\n",
    "-- Insert data into the 'products' table\n",
    "INSERT INTO products (product_name, price) VALUES\n",
    "  \t('Laptop', 799.99),\n",
    "  \t('Keyboard', 129.99),\n",
    "  \t('Mouse', 29.99);\n",
    "\n",
    "-- Insert data into the 'staff' table\n",
    "INSERT INTO staff (first_name, last_name) VALUES\n",
    "  \t('Alice', 'Smith'),\n",
    "  \t('Bob', 'Johnson'),\n",
    "  \t('Charlie', 'Williams');\n",
    "\n",
    "-- Insert data into the 'orders' table\n",
    "INSERT INTO orders (customer_name, staff_id, product_id) VALUES\n",
    "  \t('David Lee', 1, 1),\n",
    "  \t('Emily Chen', 2, 2),\n",
    "  \t('Frank Brown', 1, 3);x"
   ]
  },
  {
   "cell_type": "code",
   "execution_count": 49,
   "id": "15668d9a",
   "metadata": {},
   "outputs": [],
   "source": [
    "import sqlite3 \n",
    "\n",
    "db_file = \"sample.db\"\n",
    "\n",
    "db_conn = sqlite3.connect(db_file);"
   ]
  },
  {
   "cell_type": "code",
   "execution_count": 50,
   "id": "1287fce2",
   "metadata": {},
   "outputs": [
    {
     "name": "stdout",
     "output_type": "stream",
     "text": [
      "- DB CALL: list_table()\n"
     ]
    },
    {
     "data": {
      "text/plain": [
       "['products', 'sqlite_sequence', 'staff', 'orders']"
      ]
     },
     "execution_count": 50,
     "metadata": {},
     "output_type": "execute_result"
    }
   ],
   "source": [
    "\n",
    "\n",
    "def list_tables():\n",
    "    print('- DB CALL: list_table()')\n",
    "    cursor =db_conn.cursor()\n",
    "\n",
    "    cursor.execute(\"SELECT name FROM sqlite_master WHERE type='table';\")\n",
    "\n",
    "    tables = cursor.fetchall()\n",
    "\n",
    "    return [t[0] for t in tables]\n",
    "list_tables()\n"
   ]
  },
  {
   "cell_type": "code",
   "execution_count": 51,
   "id": "5cc06f00",
   "metadata": {},
   "outputs": [
    {
     "name": "stdout",
     "output_type": "stream",
     "text": [
      "- DB CALL: describe_table(products)\n"
     ]
    },
    {
     "data": {
      "text/plain": [
       "[('product_id', 'INTEGER'),\n",
       " ('product_name', 'VARCHAR(255)'),\n",
       " ('price', 'DECIMAL(10, 2)')]"
      ]
     },
     "execution_count": 51,
     "metadata": {},
     "output_type": "execute_result"
    }
   ],
   "source": [
    "def describe_table(table_name: str)->list[tuple[str,str]]:\n",
    "    print(f'- DB CALL: describe_table({table_name})')\n",
    "\n",
    "    cursor = db_conn.cursor()\n",
    "\n",
    "    cursor.execute(f\"PRAGMA table_info({table_name})\")\n",
    "\n",
    "    schema  = cursor.fetchall()\n",
    "\n",
    "    return [(col[1],col[2]) for col in schema]\n",
    "\n",
    "describe_table(\"products\")"
   ]
  },
  {
   "cell_type": "code",
   "execution_count": 52,
   "id": "25cf845e",
   "metadata": {},
   "outputs": [
    {
     "name": "stdout",
     "output_type": "stream",
     "text": [
      " -D DB CALL: execute_query(SELECT * FROM products;)\n"
     ]
    },
    {
     "data": {
      "text/plain": [
       "[(1, 'Laptop', 799.99),\n",
       " (2, 'Keyboard', 129.99),\n",
       " (3, 'Mouse', 29.99),\n",
       " (4, 'Laptop', 799.99),\n",
       " (5, 'Keyboard', 129.99),\n",
       " (6, 'Mouse', 29.99),\n",
       " (7, 'Laptop', 799.99),\n",
       " (8, 'Keyboard', 129.99),\n",
       " (9, 'Mouse', 29.99),\n",
       " (10, 'Laptop', 799.99),\n",
       " (11, 'Keyboard', 129.99),\n",
       " (12, 'Mouse', 29.99),\n",
       " (13, 'Laptop', 799.99),\n",
       " (14, 'Keyboard', 129.99),\n",
       " (15, 'Mouse', 29.99),\n",
       " (16, 'Laptop', 799.99),\n",
       " (17, 'Keyboard', 129.99),\n",
       " (18, 'Mouse', 29.99)]"
      ]
     },
     "execution_count": 52,
     "metadata": {},
     "output_type": "execute_result"
    }
   ],
   "source": [
    "def execute_query(sql:str) -> list[list[str]]:\n",
    "    print(f' -D DB CALL: execute_query({sql})')\n",
    "\n",
    "    cursor = db_conn.cursor()\n",
    "\n",
    "    cursor.execute(sql)\n",
    "\n",
    "    return cursor.fetchall()\n",
    "\n",
    "execute_query(\"SELECT * FROM products;\")"
   ]
  },
  {
   "cell_type": "code",
   "execution_count": 53,
   "id": "dc746736",
   "metadata": {},
   "outputs": [],
   "source": [
    "db_tools = [list_tables,describe_table,execute_query]\n",
    "\n",
    "instruction = \"\"\"You are a helpful chatbot that can interact with an SQL database\n",
    "for a computer store. You will take the users questions and turn them into SQL\n",
    "queries using the tools available. Once you have the information you need, you will\n",
    "answer the user's question using the data returned.\n",
    "\n",
    "Use list_tables to see what tables are present, describe_table to understand the\n",
    "schema, and execute_query to issue an SQL SELECT query.\"\"\"\n",
    "\n",
    "client = genai.Client(api_key=GOOGLE_API_KEY)\n",
    "\n",
    "chat = client.chats.create(\n",
    "    model=\"gemini-2.0-flash\",\n",
    "    config=types.GenerateContentConfig(\n",
    "        system_instruction=instruction,\n",
    "        tools=db_tools\n",
    "    )\n",
    ")"
   ]
  },
  {
   "cell_type": "code",
   "execution_count": 54,
   "id": "93548794",
   "metadata": {},
   "outputs": [
    {
     "name": "stdout",
     "output_type": "stream",
     "text": [
      " -D DB CALL: execute_query(SELECT ProductName, Price FROM Products ORDER BY Price ASC LIMIT 1;)\n",
      "\n",
      "I am sorry, I cannot fulfill this request. The table Products does not have the column ProductName. Would you like me to describe the table so that you can see the column names?\n",
      "\n"
     ]
    }
   ],
   "source": [
    "resp = chat.send_message(\"What is the cheapest product\")\n",
    "\n",
    "print(f\"\\n{resp.text}\")"
   ]
  },
  {
   "cell_type": "code",
   "execution_count": 55,
   "id": "61abe761",
   "metadata": {},
   "outputs": [
    {
     "name": "stdout",
     "output_type": "stream",
     "text": [
      "- DB CALL: list_table()\n",
      "- DB CALL: describe_table(products)\n",
      "- DB CALL: describe_table(staff)\n",
      "- DB CALL: describe_table(orders)\n",
      " -D DB CALL: execute_query(SELECT product_name FROM products EXCEPT SELECT T1.product_name FROM products AS T1 INNER JOIN orders AS T2 ON T1.product_id  =  T2.product_id INNER JOIN staff AS T3 ON T2.staff_id  =  T3.staff_id WHERE T3.first_name  =  'Alice')\n",
      "\n",
      "Alice should focus on selling Keyboards. Currently, she has not sold any keyboards.\n",
      "\n"
     ]
    }
   ],
   "source": [
    "chat = client.chats.create(\n",
    "    model=\"gemini-2.0-flash\",\n",
    "    config=types.GenerateContentConfig(\n",
    "        system_instruction=instruction,\n",
    "        tools=db_tools\n",
    "    )\n",
    ")\n",
    "\n",
    "response = chat.send_message(\"What products should sales parson Alice focus on to round out her portfolio ? Explain Why.\")\n",
    "\n",
    "print(f'\\n{response.text}')"
   ]
  },
  {
   "cell_type": "code",
   "execution_count": 56,
   "id": "50b51745",
   "metadata": {},
   "outputs": [
    {
     "name": "stdout",
     "output_type": "stream",
     "text": [
      "User:\n",
      " \"What products should sales parson Alice focus on to round out her portfolio ? Explain Why.\"\n",
      "Model:\n",
      " Function call: list_tables()\n",
      "User:\n",
      " Function response:\n",
      "    ['products', 'sqlite_sequence', 'staff', 'orders']\n",
      "\n",
      "Model:\n",
      " Function call: describe_table(table_name=products)\n",
      "User:\n",
      " Function response:\n",
      "    [('product_id', 'INTEGER'), ('product_name', 'VARCHAR(255)'), ('price', 'DECIMAL(10, 2)')]\n",
      "\n",
      "Model:\n",
      " Function call: describe_table(table_name=staff)\n",
      "User:\n",
      " Function response:\n",
      "    [('staff_id', 'INTEGER'), ('first_name', 'VARCHAR(255)'), ('last_name', 'VARCHAR(255)')]\n",
      "\n",
      "Model:\n",
      " Function call: describe_table(table_name=orders)\n",
      "User:\n",
      " Function response:\n",
      "    [('order_id', 'INTEGER'), ('customer_name', 'VARCHAR(255)'), ('staff_id', 'INTEGER'), ('product_id', 'INTEGER')]\n",
      "\n",
      "Model:\n",
      " Function call: execute_query(sql=SELECT product_name FROM products EXCEPT SELECT T1.product_name FROM products AS T1 INNER JOIN orders AS T2 ON T1.product_id  =  T2.product_id INNER JOIN staff AS T3 ON T2.staff_id  =  T3.staff_id WHERE T3.first_name  =  'Alice')\n",
      "User:\n",
      " Function response:\n",
      "    [('Keyboard',)]\n",
      "\n",
      "Model:\n",
      " \"Alice should focus on selling Keyboards. Currently, she has not sold any keyboards.\n",
      "\"\n"
     ]
    }
   ],
   "source": [
    "import textwrap\n",
    "\n",
    "def print_chat_turns(chat):\n",
    "    for event in chat.get_history():\n",
    "        print(f'{event.role.capitalize()}:')\n",
    "\n",
    "        for part in event.parts:\n",
    "            if txt:=part.text:\n",
    "                print(f' \"{txt}\"')\n",
    "            elif fn:= part.function_call:\n",
    "                args = \", \".join(f\"{key}={val}\" for key, val in fn.args.items())\n",
    "                print(f\" Function call: {fn.name}({args})\")\n",
    "            elif resp := part.function_response:\n",
    "                pass\n",
    "                print(\" Function response:\")\n",
    "                print(textwrap.indent(str(resp.response['result']), \"    \"))\n",
    "                print()\n",
    "\n",
    "print_chat_turns(chat)\n"
   ]
  },
  {
   "cell_type": "code",
   "execution_count": 59,
   "id": "de5c8f48",
   "metadata": {},
   "outputs": [],
   "source": [
    "from pprint import pformat\n",
    "from IPython.display import display, Image, Markdown\n",
    "\n",
    "\n",
    "async def handle_response(stream, tool_impl=None):\n",
    "  \"\"\"Stream output and handle any tool calls during the session.\"\"\"\n",
    "  all_responses = []\n",
    "\n",
    "  async for msg in stream.receive():\n",
    "    all_responses.append(msg)\n",
    "\n",
    "    if text := msg.text:\n",
    "      # Output any text chunks that are streamed back.\n",
    "      if len(all_responses) < 2 or not all_responses[-2].text:\n",
    "        # Display a header if this is the first text chunk.\n",
    "        display(Markdown('### Text'))\n",
    "\n",
    "      print(text, end='')\n",
    "\n",
    "    elif tool_call := msg.tool_call:\n",
    "      # Handle tool-call requests.\n",
    "      for fc in tool_call.function_calls:\n",
    "        display(Markdown('### Tool call'))\n",
    "\n",
    "        # Execute the tool and collect the result to return to the model.\n",
    "        if callable(tool_impl):\n",
    "          try:\n",
    "            result = tool_impl(**fc.args)\n",
    "          except Exception as e:\n",
    "            result = str(e)\n",
    "        else:\n",
    "          result = 'ok'\n",
    "\n",
    "        tool_response = types.LiveClientToolResponse(\n",
    "            function_responses=[types.FunctionResponse(\n",
    "                name=fc.name,\n",
    "                id=fc.id,\n",
    "                response={'result': result},\n",
    "            )]\n",
    "        )\n",
    "        await stream.send(input=tool_response)\n",
    "\n",
    "    elif msg.server_content and msg.server_content.model_turn:\n",
    "      # Print any messages showing code the model generated and ran.\n",
    "\n",
    "      for part in msg.server_content.model_turn.parts:\n",
    "          if code := part.executable_code:\n",
    "            display(Markdown(\n",
    "                f'### Code\\n```\\n{code.code}\\n```'))\n",
    "\n",
    "          elif result := part.code_execution_result:\n",
    "            display(Markdown(f'### Result: {result.outcome}\\n'\n",
    "                             f'```\\n{pformat(result.output)}\\n```'))\n",
    "\n",
    "          elif img := part.inline_data:\n",
    "            display(Image(img.data))\n",
    "\n",
    "  print()\n",
    "  return all_responses\n"
   ]
  },
  {
   "cell_type": "code",
   "execution_count": 60,
   "id": "429cf1be",
   "metadata": {},
   "outputs": [
    {
     "name": "stdout",
     "output_type": "stream",
     "text": [
      "> Please generate and insert 5 new rows in the orders table.\n",
      "\n"
     ]
    },
    {
     "data": {
      "text/markdown": [
       "### Text"
      ],
      "text/plain": [
       "<IPython.core.display.Markdown object>"
      ]
     },
     "metadata": {},
     "output_type": "display_data"
    },
    {
     "name": "stdout",
     "output_type": "stream",
     "text": [
      "I need more information to fulfill this request. I need to know the schema of the `orders` table so I can generate valid rows to insert. Could you please provide the table schema?\n",
      "\n"
     ]
    }
   ],
   "source": [
    "\n",
    "model = 'gemini-2.0-flash-exp'\n",
    "live_client = genai.Client(api_key=GOOGLE_API_KEY,\n",
    "                           http_options=types.HttpOptions(api_version='v1alpha'))\n",
    "\n",
    "# Wrap the existing execute_query tool you used in the earlier example.\n",
    "execute_query_tool_def = types.FunctionDeclaration.from_callable(\n",
    "    client=live_client, callable=execute_query)\n",
    "\n",
    "# Provide the model with enough information to use the tool, such as describing\n",
    "# the database so it understands which SQL syntax to use.\n",
    "sys_int = \"\"\"You are a database interface. Use the `execute_query` function\n",
    "to answer the users questions by looking up information in the database,\n",
    "running any necessary queries and responding to the user.\n",
    "\n",
    "You need to look up table schema using sqlite3 syntax SQL, then once an\n",
    "answer is found be sure to tell the user. If the user is requesting an\n",
    "action, you must also execute the actions.\n",
    "\"\"\"\n",
    "\n",
    "config = {\n",
    "    \"response_modalities\": [\"TEXT\"],\n",
    "    \"system_instruction\": {\"parts\": [{\"text\": sys_int}]},\n",
    "    \"tools\": [\n",
    "        {\"code_execution\": {}},\n",
    "        {\"function_declarations\": [execute_query_tool_def.to_json_dict()]},\n",
    "    ],\n",
    "}\n",
    "\n",
    "async with live_client.aio.live.connect(model=model, config=config) as session:\n",
    "\n",
    "  message = \"Please generate and insert 5 new rows in the orders table.\"\n",
    "  print(f\"> {message}\\n\")\n",
    "\n",
    "  await session.send(input=message, end_of_turn=True)\n",
    "  await handle_response(session, tool_impl=execute_query)"
   ]
  }
 ],
 "metadata": {
  "kernelspec": {
   "display_name": "venv",
   "language": "python",
   "name": "python3"
  },
  "language_info": {
   "codemirror_mode": {
    "name": "ipython",
    "version": 3
   },
   "file_extension": ".py",
   "mimetype": "text/x-python",
   "name": "python",
   "nbconvert_exporter": "python",
   "pygments_lexer": "ipython3",
   "version": "3.9.6"
  }
 },
 "nbformat": 4,
 "nbformat_minor": 5
}
