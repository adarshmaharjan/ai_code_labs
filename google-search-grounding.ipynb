{
 "cells": [
  {
   "cell_type": "code",
   "execution_count": 7,
   "id": "95872526",
   "metadata": {},
   "outputs": [
    {
     "name": "stdout",
     "output_type": "stream",
     "text": [
      "\u001b[33mWARNING: Skipping jupyterlab as it is not installed.\u001b[0m\u001b[33m\n",
      "\u001b[0m\u001b[33mWARNING: Skipping jupyterlab-lsp as it is not installed.\u001b[0m\u001b[33m\n",
      "\u001b[0mNote: you may need to restart the kernel to use updated packages.\n",
      "Note: you may need to restart the kernel to use updated packages.\n"
     ]
    }
   ],
   "source": [
    "# Uninstall packages from Kaggle base image that are not needed.\n",
    "%pip uninstall -qy jupyterlab jupyterlab-lsp\n",
    "# Install the google-genai SDK for this codelab.\n",
    "%pip install -qU 'google-genai==1.7.0'"
   ]
  },
  {
   "cell_type": "code",
   "execution_count": 8,
   "id": "891e28b1",
   "metadata": {},
   "outputs": [
    {
     "data": {
      "text/plain": [
       "'1.7.0'"
      ]
     },
     "execution_count": 8,
     "metadata": {},
     "output_type": "execute_result"
    }
   ],
   "source": [
    "from google import genai\n",
    "from google.genai import types\n",
    "\n",
    "from IPython.display import Markdown, HTML, display\n",
    "\n",
    "genai.__version__"
   ]
  },
  {
   "cell_type": "code",
   "execution_count": 9,
   "id": "fcb432a2",
   "metadata": {},
   "outputs": [],
   "source": [
    "import os\n",
    "\n",
    "\n",
    "GOOGLE_API_KEY = os.environ[\"GOOGLE_API_KEY\"]\n",
    "client = genai.Client(api_key=GOOGLE_API_KEY)\n"
   ]
  },
  {
   "cell_type": "code",
   "execution_count": 10,
   "id": "8250e532",
   "metadata": {},
   "outputs": [],
   "source": [
    "from google.api_core import retry\n",
    "\n",
    "is_retriable = lambda e: (isinstance(e, genai.errors.APIError) and e.code in {429, 503})\n",
    "\n",
    "if not hasattr(genai.models.Models.generate_content, '__wrapped__'):\n",
    "  genai.models.Models.generate_content = retry.Retry(\n",
    "      predicate=is_retriable)(genai.models.Models.generate_content)"
   ]
  },
  {
   "cell_type": "code",
   "execution_count": 11,
   "id": "f64f3cb0",
   "metadata": {},
   "outputs": [
    {
     "data": {
      "text/markdown": [
       "Unfortunately, Billie Eilish doesn't have any upcoming concerts scheduled that have been officially announced. The best places to stay up-to-date on any potential announcements are:\n",
       "\n",
       "*   **Billie Eilish's Official Website:** This is the primary source for tour information.\n",
       "*   **Billie Eilish's Social Media:** Check her official accounts on platforms like Instagram, X (formerly Twitter), and Facebook.\n",
       "*   **Ticketmaster and other major ticketing platforms:** These will be updated as soon as any tour dates are released."
      ],
      "text/plain": [
       "<IPython.core.display.Markdown object>"
      ]
     },
     "execution_count": 11,
     "metadata": {},
     "output_type": "execute_result"
    }
   ],
   "source": [
    "\n",
    "\n",
    "response = client.models.generate_content(\n",
    "    model=\"gemini-2.0-flash\",\n",
    "    contents=\"When and where is Billie Eilish's next concert\"\n",
    ")\n",
    "\n",
    "Markdown(response.text)\n"
   ]
  },
  {
   "cell_type": "code",
   "execution_count": 12,
   "id": "4cd21d49",
   "metadata": {},
   "outputs": [
    {
     "data": {
      "text/markdown": [
       "Billie Eilish is currently on her \"Hit Me Hard and Soft: The Tour\". Based on available information, here are some of her upcoming concert dates and locations:\n",
       "\n",
       "*   **April 23 & 24, 2025:** Avicii Arena, Stockholm, Sweden\n",
       "*   **April 26, 2025:** Unity Arena, Fornebu, Norway\n",
       "*   **April 28 & 29, 2025:** Royal Arena, Copenhagen, Denmark\n",
       "*   **May 2, 2025:** ZAG Arena, Hannover, Germany\n",
       "*   **May 4, 5 & 7, 2025:** Ziggo Dome, Amsterdam, Netherlands\n",
       "*   **May 9, 2025:** Uber Arena, Berlin, Germany\n",
       "*   **May 29 & 30, 2025:** LANXESS arena, Cologne, Germany\n",
       "*   **June 1, 2025:** O2 arena, Berlin\n",
       "*   **June 3 & 4, 2025:** TAURON Arena Kraków, Kraków, Poland\n",
       "*   **June 6, 2025:** Wiener Stadthalle, Vienna, Austria\n",
       "*   **June 8, 2025:** Unipol Arena, Casalecchio di Reno, Italy\n",
       "*   **June 10 & 11, 2025:** Accor Arena, Paris, France\n",
       "*   **June 14 & 15, 2025:** Palau Sant Jordi, Barcelona, Spain\n",
       "*   **July 7 & 8, 2025:** OVO Hydro, Glasgow, UK\n",
       "*   **July 10, 11, 13, 14, 16 & 17, 2025:** The O2 arena, London, UK\n",
       "*   **July 19 & 20, 2025:** Co-op Live, Manchester, UK\n",
       "*   **July 22 & 23, 2025:** Utilita Arena, Birmingham, UK\n",
       "*   **July 26 & 27, 2025:** 3Arena, Dublin, Ireland\n",
       "\n"
      ],
      "text/plain": [
       "<IPython.core.display.Markdown object>"
      ]
     },
     "execution_count": 12,
     "metadata": {},
     "output_type": "execute_result"
    }
   ],
   "source": [
    "config_with_search = types.GenerateContentConfig(\n",
    "    tools = [types.Tool(google_search=types.GoogleSearch(),)]\n",
    ")\n",
    "\n",
    "def query_with_grounding():\n",
    "    response = client.models.generate_content(\n",
    "        model=\"gemini-2.0-flash\",\n",
    "        contents=\"When and where is billie eilish's next concert\",\n",
    "        config=config_with_search\n",
    "    )\n",
    "\n",
    "    return response.candidates[0]\n",
    "\n",
    "rc = query_with_grounding()\n",
    "Markdown(rc.content.parts[0].text)\n",
    "\n"
   ]
  },
  {
   "cell_type": "code",
   "execution_count": 13,
   "id": "da81aabb",
   "metadata": {},
   "outputs": [
    {
     "name": "stdout",
     "output_type": "stream",
     "text": [
      "theo2.co.uk: https://vertexaisearch.cloud.google.com/grounding-api-redirect/AWQVqAIoO54HZZ6s9hD2GOfMs_hGJZguMeSHHEE5Goj93xgz5oKum8q0Te8q400owD-Wl5uTDUP6tr108MGMTnY1nqLdDOqnrQnqyAkU1pAdfC4rrwz4VMI1XCOctAk2noFnDp1XKlAwhjnmHQvyyJuwLR1xgtz85HUqXpiyt1jnFogYXW6afF00DPtzI3QMaA==\n",
      "\n",
      "frontiertouring.com: https://vertexaisearch.cloud.google.com/grounding-api-redirect/AWQVqAI9uSCAO6XvjxvZqHoAf6UNvkvElKxD0RWZXpK19WJkwO2Qb0jcRz_kTZuWi4xAw_k8Fa_WNxYZ3EX86xyVjA90cu3ExI7YhJjg-2IJ5V2DAho15np9O-kMcXSzM1z-2X943ACG9Cu5\n",
      "\n",
      "ticketmaster.co.uk: https://vertexaisearch.cloud.google.com/grounding-api-redirect/AWQVqALLTuC6oL-j251gjJiznJ0D1uo7h3II1CUJlIt76hyTiIhouqGkp33G4hrehyx3vsdJD6D2aeQumwbVfz066-OHofMq3kepVKqury9X-blf5TuLRLmqks9XXwOLvYmDnMlFGXmhj8cyTalGiHVTEbYqw69tm4e3Lw63eBbnnec=\n",
      "\n",
      "wikipedia.org: https://vertexaisearch.cloud.google.com/grounding-api-redirect/AWQVqALaaLTmx8QfskKpoKwjrrgqK0Cr1tcrXg3yJMqZURcDuWU2y5AflUrq78_3ZdVvAqiUCjqyA28KAFEMRAf9Bo4ZnGy767umSfztwSiMqRK-rdMlzSEWHrA3pNel-nLtHDFeHe5JcJg26jLwg4G-ZR3fMzeCiOzWLQ==\n",
      "\n",
      "ticketmaster.com: https://vertexaisearch.cloud.google.com/grounding-api-redirect/AWQVqAJY0ENnwTOdCgdBRXqam2He-apBH1mgr4H3JFMgVapgjs50opoeRqmZX_FNas3vghBsevZq9zNdUclQoEa84bzYrPJyFe3xXzHv2x8-cHa2UVF9vxJ6xzzoIornfQFmcMJAbUohNd2QD_mLn3FkJ0hQNnVsCX7ydJOR_SCu\n",
      "\n",
      "simplebeen.com: https://vertexaisearch.cloud.google.com/grounding-api-redirect/AWQVqALHHTEnFGTvRzMnmd_F7fA1dHSkZztV9KPHPfxD2ZW8mDxH81LFNOGhrylHM0v9iV0IbWmU3xnBpE9tiB1myD_11C8UaUgJnKpY43JzbOSeCQsSOX6M0stvi0SpcyKy55r58vutjw==\n",
      "\n",
      "billieeilish.com: https://vertexaisearch.cloud.google.com/grounding-api-redirect/AWQVqAKbebNkF-mnW0NFcpMiTvez9d0BNGPbw40zkbGggF2YWV48bnOsxz02vpYT0UscAaSs_7rYC0FUWs6MO89331rvWLYecibjqI--F2q4xiYk7iMqc2rL1U-_0WCAgwpqgcumPnMc\n",
      "\n",
      "stubhub.com: https://vertexaisearch.cloud.google.com/grounding-api-redirect/AWQVqAL5jjrd8RbdovPsWA1ESbZzTj7Z9kIYk63oniqgIKqqTPouH3a1ayfhWOWpRfv5xmZeTo-KhmgrtMmHau3kdcRpmaxZBj1x_jpXA-nS_UZyJyMKR6WjUVBP-JeDQ0wTGbLKt2e2pJg0EEGzYZKcZXRcsZVH5ZYEiq-9AQ3g\n",
      "\n"
     ]
    }
   ],
   "source": [
    "while not rc.grounding_metadata.grounding_supports or not rc.grounding_metadata.grounding_chunks:\n",
    "    rc = query_with_grounding()\n",
    "\n",
    "chunks = rc.grounding_metadata.grounding_chunks\n",
    "\n",
    "for chunk in chunks:\n",
    "    print(f'{chunk.web.title}: {chunk.web.uri}\\n')\n",
    "    \n",
    "\n"
   ]
  },
  {
   "cell_type": "code",
   "execution_count": 14,
   "id": "94280963",
   "metadata": {},
   "outputs": [
    {
     "data": {
      "text/html": [
       "<style>\n",
       ".container {\n",
       "  align-items: center;\n",
       "  border-radius: 8px;\n",
       "  display: flex;\n",
       "  font-family: Google Sans, Roboto, sans-serif;\n",
       "  font-size: 14px;\n",
       "  line-height: 20px;\n",
       "  padding: 8px 12px;\n",
       "}\n",
       ".chip {\n",
       "  display: inline-block;\n",
       "  border: solid 1px;\n",
       "  border-radius: 16px;\n",
       "  min-width: 14px;\n",
       "  padding: 5px 16px;\n",
       "  text-align: center;\n",
       "  user-select: none;\n",
       "  margin: 0 8px;\n",
       "  -webkit-tap-highlight-color: transparent;\n",
       "}\n",
       ".carousel {\n",
       "  overflow: auto;\n",
       "  scrollbar-width: none;\n",
       "  white-space: nowrap;\n",
       "  margin-right: -12px;\n",
       "}\n",
       ".headline {\n",
       "  display: flex;\n",
       "  margin-right: 4px;\n",
       "}\n",
       ".gradient-container {\n",
       "  position: relative;\n",
       "}\n",
       ".gradient {\n",
       "  position: absolute;\n",
       "  transform: translate(3px, -9px);\n",
       "  height: 36px;\n",
       "  width: 9px;\n",
       "}\n",
       "@media (prefers-color-scheme: light) {\n",
       "  .container {\n",
       "    background-color: #fafafa;\n",
       "    box-shadow: 0 0 0 1px #0000000f;\n",
       "  }\n",
       "  .headline-label {\n",
       "    color: #1f1f1f;\n",
       "  }\n",
       "  .chip {\n",
       "    background-color: #ffffff;\n",
       "    border-color: #d2d2d2;\n",
       "    color: #5e5e5e;\n",
       "    text-decoration: none;\n",
       "  }\n",
       "  .chip:hover {\n",
       "    background-color: #f2f2f2;\n",
       "  }\n",
       "  .chip:focus {\n",
       "    background-color: #f2f2f2;\n",
       "  }\n",
       "  .chip:active {\n",
       "    background-color: #d8d8d8;\n",
       "    border-color: #b6b6b6;\n",
       "  }\n",
       "  .logo-dark {\n",
       "    display: none;\n",
       "  }\n",
       "  .gradient {\n",
       "    background: linear-gradient(90deg, #fafafa 15%, #fafafa00 100%);\n",
       "  }\n",
       "}\n",
       "@media (prefers-color-scheme: dark) {\n",
       "  .container {\n",
       "    background-color: #1f1f1f;\n",
       "    box-shadow: 0 0 0 1px #ffffff26;\n",
       "  }\n",
       "  .headline-label {\n",
       "    color: #fff;\n",
       "  }\n",
       "  .chip {\n",
       "    background-color: #2c2c2c;\n",
       "    border-color: #3c4043;\n",
       "    color: #fff;\n",
       "    text-decoration: none;\n",
       "  }\n",
       "  .chip:hover {\n",
       "    background-color: #353536;\n",
       "  }\n",
       "  .chip:focus {\n",
       "    background-color: #353536;\n",
       "  }\n",
       "  .chip:active {\n",
       "    background-color: #464849;\n",
       "    border-color: #53575b;\n",
       "  }\n",
       "  .logo-light {\n",
       "    display: none;\n",
       "  }\n",
       "  .gradient {\n",
       "    background: linear-gradient(90deg, #1f1f1f 15%, #1f1f1f00 100%);\n",
       "  }\n",
       "}\n",
       "</style>\n",
       "<div class=\"container\">\n",
       "  <div class=\"headline\">\n",
       "    <svg class=\"logo-light\" width=\"18\" height=\"18\" viewBox=\"9 9 35 35\" fill=\"none\" xmlns=\"http://www.w3.org/2000/svg\">\n",
       "      <path fill-rule=\"evenodd\" clip-rule=\"evenodd\" d=\"M42.8622 27.0064C42.8622 25.7839 42.7525 24.6084 42.5487 23.4799H26.3109V30.1568H35.5897C35.1821 32.3041 33.9596 34.1222 32.1258 35.3448V39.6864H37.7213C40.9814 36.677 42.8622 32.2571 42.8622 27.0064V27.0064Z\" fill=\"#4285F4\"/>\n",
       "      <path fill-rule=\"evenodd\" clip-rule=\"evenodd\" d=\"M26.3109 43.8555C30.9659 43.8555 34.8687 42.3195 37.7213 39.6863L32.1258 35.3447C30.5898 36.3792 28.6306 37.0061 26.3109 37.0061C21.8282 37.0061 18.0195 33.9811 16.6559 29.906H10.9194V34.3573C13.7563 39.9841 19.5712 43.8555 26.3109 43.8555V43.8555Z\" fill=\"#34A853\"/>\n",
       "      <path fill-rule=\"evenodd\" clip-rule=\"evenodd\" d=\"M16.6559 29.8904C16.3111 28.8559 16.1074 27.7588 16.1074 26.6146C16.1074 25.4704 16.3111 24.3733 16.6559 23.3388V18.8875H10.9194C9.74388 21.2072 9.06992 23.8247 9.06992 26.6146C9.06992 29.4045 9.74388 32.022 10.9194 34.3417L15.3864 30.8621L16.6559 29.8904V29.8904Z\" fill=\"#FBBC05\"/>\n",
       "      <path fill-rule=\"evenodd\" clip-rule=\"evenodd\" d=\"M26.3109 16.2386C28.85 16.2386 31.107 17.1164 32.9095 18.8091L37.8466 13.8719C34.853 11.082 30.9659 9.3736 26.3109 9.3736C19.5712 9.3736 13.7563 13.245 10.9194 18.8875L16.6559 23.3388C18.0195 19.2636 21.8282 16.2386 26.3109 16.2386V16.2386Z\" fill=\"#EA4335\"/>\n",
       "    </svg>\n",
       "    <svg class=\"logo-dark\" width=\"18\" height=\"18\" viewBox=\"0 0 48 48\" xmlns=\"http://www.w3.org/2000/svg\">\n",
       "      <circle cx=\"24\" cy=\"23\" fill=\"#FFF\" r=\"22\"/>\n",
       "      <path d=\"M33.76 34.26c2.75-2.56 4.49-6.37 4.49-11.26 0-.89-.08-1.84-.29-3H24.01v5.99h8.03c-.4 2.02-1.5 3.56-3.07 4.56v.75l3.91 2.97h.88z\" fill=\"#4285F4\"/>\n",
       "      <path d=\"M15.58 25.77A8.845 8.845 0 0 0 24 31.86c1.92 0 3.62-.46 4.97-1.31l4.79 3.71C31.14 36.7 27.65 38 24 38c-5.93 0-11.01-3.4-13.45-8.36l.17-1.01 4.06-2.85h.8z\" fill=\"#34A853\"/>\n",
       "      <path d=\"M15.59 20.21a8.864 8.864 0 0 0 0 5.58l-5.03 3.86c-.98-2-1.53-4.25-1.53-6.64 0-2.39.55-4.64 1.53-6.64l1-.22 3.81 2.98.22 1.08z\" fill=\"#FBBC05\"/>\n",
       "      <path d=\"M24 14.14c2.11 0 4.02.75 5.52 1.98l4.36-4.36C31.22 9.43 27.81 8 24 8c-5.93 0-11.01 3.4-13.45 8.36l5.03 3.85A8.86 8.86 0 0 1 24 14.14z\" fill=\"#EA4335\"/>\n",
       "    </svg>\n",
       "    <div class=\"gradient-container\"><div class=\"gradient\"></div></div>\n",
       "  </div>\n",
       "  <div class=\"carousel\">\n",
       "    <a class=\"chip\" href=\"https://vertexaisearch.cloud.google.com/grounding-api-redirect/AWQVqAI2mtHxS28l57oXthaEudRHCQgdN1aGsgtN3y5hd7SF9JGOfmtN_vUUzCTWBGhtJ6vMAn-mcHqQuVOX4pYa2Ap7Nl9mnE5hZUrwe3thuZ7YJVq0KpcJsY5rY9UBIw_HgYC8rBLAmdWILiXDpRL81OOJmM-fMlTu5vwpbtUP29jHPIWRuefk_qQzt0WRK_DAESYC4XVE6OSj0TSwtH0ng0oI2w==\">billie eilish concert schedule</a>\n",
       "    <a class=\"chip\" href=\"https://vertexaisearch.cloud.google.com/grounding-api-redirect/AWQVqAIzFbkQo_xODV_OPW9M6pRQwI-1aQ_AaV5TkrqAQSlEdp-JlWAo9pGhMDn3IEuXjWcrG0W7FcvMviwydLQrV7kD10a-Wt4Upvs-ID1ZUOetXmXT8TU641ERCjHQRSGyYCX6BiE8CqvsLC8YtQ4VALEhznW_aDahsqes5Aq_gV8S4hmlLVfhht_C33QEZYM-lZ6VZr47yiqArDNPYN8W3Vk8\">Billie Eilish tour dates 2025</a>\n",
       "  </div>\n",
       "</div>\n"
      ],
      "text/plain": [
       "<IPython.core.display.HTML object>"
      ]
     },
     "execution_count": 14,
     "metadata": {},
     "output_type": "execute_result"
    }
   ],
   "source": [
    "HTML(rc.grounding_metadata.search_entry_point.rendered_content)\n"
   ]
  },
  {
   "cell_type": "code",
   "execution_count": 15,
   "id": "65f558e3",
   "metadata": {},
   "outputs": [
    {
     "name": "stdout",
     "output_type": "stream",
     "text": [
      "{'confidence_scores': [0.80626404,\n",
      "                       0.88891524,\n",
      "                       0.63002145,\n",
      "                       0.77561367,\n",
      "                       0.6613139,\n",
      "                       0.939793],\n",
      " 'grounding_chunk_indices': [0, 1, 2, 3, 4, 5],\n",
      " 'segment': {'end_index': 67,\n",
      "             'text': 'Billie Eilish is currently on her \"Hit Me Hard and Soft: '\n",
      "                     'The Tour\".'}}\n",
      "{'confidence_scores': [0.6104942],\n",
      " 'grounding_chunk_indices': [4],\n",
      " 'segment': {'end_index': 220,\n",
      "             'start_index': 160,\n",
      "             'text': '*   **April 23 & 24, 2025:** Avicii Arena, Stockholm, '\n",
      "                     'Sweden'}}\n",
      "{'confidence_scores': [0.83797866, 0.63206124],\n",
      " 'grounding_chunk_indices': [6, 2],\n",
      " 'segment': {'end_index': 273,\n",
      "             'start_index': 221,\n",
      "             'text': '*   **April 26, 2025:** Unity Arena, Fornebu, Norway'}}\n",
      "{'confidence_scores': [0.6709798],\n",
      " 'grounding_chunk_indices': [7],\n",
      " 'segment': {'end_index': 335,\n",
      "             'start_index': 274,\n",
      "             'text': '*   **April 28 & 29, 2025:** Royal Arena, Copenhagen, '\n",
      "                     'Denmark'}}\n",
      "{'confidence_scores': [0.6387437, 0.61908096],\n",
      " 'grounding_chunk_indices': [7, 2],\n",
      " 'segment': {'end_index': 385,\n",
      "             'start_index': 336,\n",
      "             'text': '*   **May 2, 2025:** ZAG Arena, Hannover, Germany'}}\n",
      "{'confidence_scores': [0.6213985],\n",
      " 'grounding_chunk_indices': [2],\n",
      " 'segment': {'end_index': 497,\n",
      "             'start_index': 449,\n",
      "             'text': '*   **May 9, 2025:** Uber Arena, Berlin, Germany'}}\n",
      "{'confidence_scores': [0.60881126],\n",
      " 'grounding_chunk_indices': [2],\n",
      " 'segment': {'end_index': 556,\n",
      "             'start_index': 498,\n",
      "             'text': '*   **May 29 & 30, 2025:** LANXESS arena, Cologne, '\n",
      "                     'Germany'}}\n",
      "{'confidence_scores': [0.8548207, 0.6238812],\n",
      " 'grounding_chunk_indices': [6, 2],\n",
      " 'segment': {'end_index': 595,\n",
      "             'start_index': 557,\n",
      "             'text': '*   **June 1, 2025:** O2 arena, Berlin'}}\n",
      "{'confidence_scores': [0.6146578],\n",
      " 'grounding_chunk_indices': [2],\n",
      " 'segment': {'end_index': 659,\n",
      "             'start_index': 596,\n",
      "             'text': '*   **June 3 & 4, 2025:** TAURON Arena Kraków, Kraków, '\n",
      "                     'Poland'}}\n",
      "{'confidence_scores': [0.6087257],\n",
      " 'grounding_chunk_indices': [2],\n",
      " 'segment': {'end_index': 716,\n",
      "             'start_index': 660,\n",
      "             'text': '*   **June 6, 2025:** Wiener Stadthalle, Vienna, '\n",
      "                     'Austria'}}\n",
      "{'confidence_scores': [0.60177964],\n",
      " 'grounding_chunk_indices': [2],\n",
      " 'segment': {'end_index': 779,\n",
      "             'start_index': 717,\n",
      "             'text': '*   **June 8, 2025:** Unipol Arena, Casalecchio di Reno, '\n",
      "                     'Italy'}}\n",
      "{'confidence_scores': [0.62777853],\n",
      " 'grounding_chunk_indices': [2],\n",
      " 'segment': {'end_index': 946,\n",
      "             'start_index': 898,\n",
      "             'text': '*   **July 7 & 8, 2025:** OVO Hydro, Glasgow, UK'}}\n",
      "{'confidence_scores': [0.63670194],\n",
      " 'grounding_chunk_indices': [2],\n",
      " 'segment': {'end_index': 1015,\n",
      "             'start_index': 947,\n",
      "             'text': '*   **July 10, 11, 13, 14, 16 & 17, 2025:** The O2 '\n",
      "                     'arena, London, UK'}}\n",
      "{'confidence_scores': [0.6032614],\n",
      " 'grounding_chunk_indices': [2],\n",
      " 'segment': {'end_index': 1070,\n",
      "             'start_index': 1016,\n",
      "             'text': '*   **July 19 & 20, 2025:** Co-op Live, Manchester, UK'}}\n",
      "{'confidence_scores': [0.63209134],\n",
      " 'grounding_chunk_indices': [2],\n",
      " 'segment': {'end_index': 1128,\n",
      "             'start_index': 1071,\n",
      "             'text': '*   **July 22 & 23, 2025:** Utilita Arena, Birmingham, '\n",
      "                     'UK'}}\n",
      "{'confidence_scores': [0.7641445],\n",
      " 'grounding_chunk_indices': [2],\n",
      " 'segment': {'end_index': 1180,\n",
      "             'start_index': 1129,\n",
      "             'text': '*   **July 26 & 27, 2025:** 3Arena, Dublin, Ireland'}}\n"
     ]
    }
   ],
   "source": [
    "from pprint import pprint\n",
    "from re import L\n",
    "\n",
    "supports = rc.grounding_metadata.grounding_supports\n",
    "\n",
    "for support in supports:\n",
    "    pprint(support.to_json_dict())"
   ]
  },
  {
   "cell_type": "code",
   "execution_count": 16,
   "id": "60e8f245",
   "metadata": {},
   "outputs": [
    {
     "data": {
      "text/markdown": [
       "Supported text:\n",
       "\n",
       "*Billie Eilish is currently on her \"Hit Me Hard and Soft: The Tour\".<sup>1</sup><sup>2</sup><sup>3</sup><sup>4</sup><sup>5</sup><sup>6</sup>\n",
       "\n",
       "**   **April 23 & 24, 2025:** Avicii Arena, Stockholm, Sweden<sup>5</sup>\n",
       "\n",
       "**   **April 26, 2025:** Unity Arena, Fornebu, Norway<sup>7</sup><sup>3</sup>\n",
       "\n",
       "**   **April 28 & 29, 2025:** Royal Arena, Copenhagen, Denmark<sup>8</sup>\n",
       "\n",
       "**   **May 2, 2025:** ZAG Arena, Hannover, Germany<sup>8</sup><sup>3</sup>\n",
       "\n",
       "**   **May 9, 2025:** Uber Arena, Berlin, Germany<sup>3</sup>\n",
       "\n",
       "**   **May 29 & 30, 2025:** LANXESS arena, Cologne, Germany<sup>3</sup>\n",
       "\n",
       "**   **June 1, 2025:** O2 arena, Berlin<sup>7</sup><sup>3</sup>\n",
       "\n",
       "**   **June 3 & 4, 2025:** TAURON Arena Kraków, Kraków, Poland\n",
       "*<sup>3</sup>\n",
       "\n",
       "*  **June 6, 2025:** Wiener Stadthalle, Vienna, Austria\n",
       "*<sup>3</sup>\n",
       "\n",
       "*  **June 8, 2025:** Unipol Arena, Casalecchio di Reno, Italy\n",
       "*<sup>3</sup>\n",
       "\n",
       "*  **July 7 & 8, 2025:** OVO Hydro, Glasgow, UK\n",
       "*<sup>3</sup>\n",
       "\n",
       "*  **July 10, 11, 13, 14, 16 & 17, 2025:** The O2 arena, London, UK\n",
       "*<sup>3</sup>\n",
       "\n",
       "*  **July 19 & 20, 2025:** Co-op Live, Manchester, UK\n",
       "*<sup>3</sup>\n",
       "\n",
       "*  **July 22 & 23, 2025:** Utilita Arena, Birmingham, UK\n",
       "*<sup>3</sup>\n",
       "\n",
       "*  **July 26 & 27, 2025:** 3Arena, Dublin, Ireland\n",
       "\n",
       "<sup>3</sup>\n",
       "\n"
      ],
      "text/plain": [
       "<IPython.core.display.Markdown object>"
      ]
     },
     "execution_count": 16,
     "metadata": {},
     "output_type": "execute_result"
    }
   ],
   "source": [
    "import io\n",
    "markdown_buffer = io.StringIO()\n",
    "\n",
    "markdown_buffer.write(\"Supported text:\\n\\n\")\n",
    "\n",
    "for support in supports:\n",
    "    markdown_buffer.write(\"*\")\n",
    "    markdown_buffer.write(\n",
    "        rc.content.parts[0].text[support.segment.start_index:support.segment.end_index] \n",
    "    )\n",
    "\n",
    "    for i in support.grounding_chunk_indices:\n",
    "        chuck = chunks[i].web\n",
    "\n",
    "        markdown_buffer.write(f'<sup>{i+1}</sup>')\n",
    "    markdown_buffer.write(\"\\n\\n\")\n",
    "\n",
    "Markdown(markdown_buffer.getvalue())\n"
   ]
  },
  {
   "cell_type": "code",
   "execution_count": 21,
   "id": "8e14c892",
   "metadata": {},
   "outputs": [],
   "source": [
    "from IPython.display import display, Image, Markdown\n",
    "\n",
    "def show_response(response):\n",
    "    for p in response.candidates[0].content.parts:\n",
    "        if p.text:\n",
    "            display(Markdown(p.text))\n",
    "        elif p.inline_data:\n",
    "            display(Image(p.inline_data.data))\n",
    "        else:\n",
    "            print(p.to_json_dict())\n",
    "    \n",
    "        display(Markdown('----'))"
   ]
  },
  {
   "cell_type": "code",
   "execution_count": 18,
   "id": "662fb8ee",
   "metadata": {},
   "outputs": [
    {
     "data": {
      "text/markdown": [
       "Here's the medal tally for the top 10 countries at the Paris 2024 Olympics:\n",
       "\n",
       "1.  **United States of America:** 40 Gold, 44 Silver, 42 Bronze (126 total)\n",
       "2.  **People's Republic of China:** 40 Gold, 27 Silver, 24 Bronze (91 total)\n",
       "3.  **Japan:** 20 Gold, 12 Silver, 13 Bronze (45 total)\n",
       "4.  **Australia:** 18 Gold, 19 Silver, 16 Bronze (53 total)\n",
       "5.  **France:** 16 Gold, 26 Silver, 22 Bronze (64 total)\n",
       "6.  **Netherlands:** 15 Gold, 7 Silver, 12 Bronze (34 total)\n",
       "7.  **Great Britain:** 14 Gold, 22 Silver, 29 Bronze (65 total)\n",
       "8.  **Republic of Korea:** 13 Gold, 9 Silver, 10 Bronze (32 total)\n",
       "9.  **Italy:** 12 Gold, 13 Silver, 15 Bronze (40 total)\n",
       "10. **Germany:** 12 Gold, 13 Silver, 8 Bronze (33 total)"
      ],
      "text/plain": [
       "<IPython.core.display.Markdown object>"
      ]
     },
     "metadata": {},
     "output_type": "display_data"
    },
    {
     "data": {
      "text/markdown": [
       "-----"
      ],
      "text/plain": [
       "<IPython.core.display.Markdown object>"
      ]
     },
     "metadata": {},
     "output_type": "display_data"
    }
   ],
   "source": [
    "config_with_search = types.GenerateContentConfig(\n",
    "    tools=[types.Tool(google_search=types.GoogleSearch())],\n",
    "    temperature=0\n",
    ")\n",
    "\n",
    "chat = client.chats.create(model='gemini-2.0-flash')\n",
    "\n",
    "response = chat.send_message(\n",
    "    message=\"Wha were the medals tallies, by to-10 countries, for 2024 olympics ?\",\n",
    "    config=config_with_search\n",
    ")\n",
    "\n",
    "show_response(response)"
   ]
  },
  {
   "cell_type": "code",
   "execution_count": 22,
   "id": "03a3c2fb",
   "metadata": {},
   "outputs": [
    {
     "data": {
      "text/markdown": [
       "Okay, I can create a Seaborn chart visualizing the medal tally for the top 10 countries at the 2024 Olympics. I'll use a stacked bar chart to represent the gold, silver, and bronze medals for each country.\n",
       "\n"
      ],
      "text/plain": [
       "<IPython.core.display.Markdown object>"
      ]
     },
     "metadata": {},
     "output_type": "display_data"
    },
    {
     "data": {
      "text/markdown": [
       "----"
      ],
      "text/plain": [
       "<IPython.core.display.Markdown object>"
      ]
     },
     "metadata": {},
     "output_type": "display_data"
    },
    {
     "name": "stdout",
     "output_type": "stream",
     "text": [
      "{'executable_code': {'code': \"import pandas as pd\\nimport seaborn as sns\\nimport matplotlib.pyplot as plt\\n\\n# Data for the medal tally\\ndata = {\\n    'Country': ['United States of America', 'People\\\\'s Republic of China', 'Japan', 'Australia', 'France', 'Netherlands', 'Great Britain', 'Republic of Korea', 'Italy', 'Germany'],\\n    'Gold': [40, 40, 20, 18, 16, 15, 14, 13, 12, 12],\\n    'Silver': [44, 27, 12, 19, 26, 7, 22, 9, 13, 13],\\n    'Bronze': [42, 24, 13, 16, 22, 12, 29, 10, 15, 8]\\n}\\n\\ndf = pd.DataFrame(data)\\n\\n# Melt the dataframe to long format for Seaborn\\ndf_melted = df.melt(id_vars='Country', var_name='Medal', value_name='Count')\\n\\n# Create the stacked bar chart\\nplt.figure(figsize=(12, 8))\\nsns.barplot(x='Country', y='Count', hue='Medal', data=df_melted, palette=['#FFD700', '#C0C0C0', '#CD7F32']) # Gold, Silver, Bronze colors\\nplt.title('2024 Olympics Medal Tally (Top 10 Countries)')\\nplt.xlabel('Country')\\nplt.ylabel('Medal Count')\\nplt.xticks(rotation=45, ha='right')\\nplt.tight_layout()\\nplt.show()\\n\", 'language': 'PYTHON'}}\n"
     ]
    },
    {
     "data": {
      "text/markdown": [
       "----"
      ],
      "text/plain": [
       "<IPython.core.display.Markdown object>"
      ]
     },
     "metadata": {},
     "output_type": "display_data"
    },
    {
     "name": "stdout",
     "output_type": "stream",
     "text": [
      "{'text': ''}\n"
     ]
    },
    {
     "data": {
      "text/markdown": [
       "----"
      ],
      "text/plain": [
       "<IPython.core.display.Markdown object>"
      ]
     },
     "metadata": {},
     "output_type": "display_data"
    }
   ],
   "source": [
    "config_with_code = types.GenerateContentConfig(\n",
    "    tools=[types.Tool(code_execution=types.ToolCodeExecution())],\n",
    "    temperature=0.0,\n",
    ")\n",
    "\n",
    "response = chat.send_message(\n",
    "    message=\"Now plot this as a seaborn chart. Break out the medals too.\",\n",
    "    config=config_with_code,\n",
    ")\n",
    "\n",
    "show_response(response)"
   ]
  }
 ],
 "metadata": {
  "kernelspec": {
   "display_name": "venv",
   "language": "python",
   "name": "python3"
  },
  "language_info": {
   "codemirror_mode": {
    "name": "ipython",
    "version": 3
   },
   "file_extension": ".py",
   "mimetype": "text/x-python",
   "name": "python",
   "nbconvert_exporter": "python",
   "pygments_lexer": "ipython3",
   "version": "3.9.6"
  }
 },
 "nbformat": 4,
 "nbformat_minor": 5
}
